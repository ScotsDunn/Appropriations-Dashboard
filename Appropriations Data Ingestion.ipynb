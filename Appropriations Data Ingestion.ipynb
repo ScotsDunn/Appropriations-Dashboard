{
 "cells": [
  {
   "cell_type": "markdown",
   "id": "31650c81-a158-46e3-ad3a-cbddeb5beb06",
   "metadata": {},
   "source": [
    "# Appropriations Data Ingestion Program"
   ]
  },
  {
   "cell_type": "markdown",
   "id": "8fc14d1e-0db0-46ee-86c6-f7087ad17d96",
   "metadata": {},
   "source": [
    "## Load Packages:"
   ]
  },
  {
   "cell_type": "code",
   "execution_count": 166,
   "id": "aa576c32-b242-43f7-9943-a1270e65e7c2",
   "metadata": {},
   "outputs": [],
   "source": [
    "import pandas as pd \n",
    "from openpyxl import load_workbook\n",
    "from io import BytesIO\n",
    "import sqlite3\n",
    "import os\n",
    "import numpy as np"
   ]
  },
  {
   "cell_type": "markdown",
   "id": "953adc83-1ba0-4324-a98f-bd0ce07e0aea",
   "metadata": {},
   "source": [
    "## Create SQLite database:"
   ]
  },
  {
   "cell_type": "code",
   "execution_count": 75,
   "id": "58e3a2e4-a6db-4345-b1b3-36680586e420",
   "metadata": {},
   "outputs": [
    {
     "data": {
      "text/plain": [
       "<sqlite3.Cursor at 0x214f4571140>"
      ]
     },
     "execution_count": 75,
     "metadata": {},
     "output_type": "execute_result"
    }
   ],
   "source": [
    "db_path = 'Appropriations_log.db'\n",
    "connection = sqlite3.connect(db_path)\n",
    "\n",
    "cursor = connection.cursor()\n",
    "\n",
    "cursor.execute('''\n",
    "CREATE TABLE IF NOT EXISTS CIOs (\n",
    "    CIO_Name TEXT NOT NULL PRIMARY KEY,\n",
    "    Supplier_Number TEXT\n",
    ")\n",
    "''')\n",
    "\n",
    "cursor.execute('''\n",
    "CREATE TABLE IF NOT EXISTS CIO_Categories (\n",
    "    Category_ID INTEGER PRIMARY KEY AUTOINCREMENT,\n",
    "    CIO_Name TEXT NOT NULL,\n",
    "    Category TEXT NOT NULL,\n",
    "    FOREIGN KEY (CIO_Name) REFERENCES CIOs(CIO_Name)\n",
    ")\n",
    "''')\n",
    "\n",
    "cursor.execute('''\n",
    "CREATE TABLE IF NOT EXISTS Round_Information (\n",
    "    Full_Round_Name TEXT PRIMARY KEY,\n",
    "    Date_RR_App_Closed TEXT,\n",
    "    Year TEXT,\n",
    "    Semester TEXT,\n",
    "    Round TEXT    \n",
    ")\n",
    "''')\n",
    "\n",
    "cursor.execute('''\n",
    "CREATE TABLE IF NOT EXISTS Application_Information (\n",
    "    Application_ID INTEGER PRIMARY KEY AUTOINCREMENT,\n",
    "    CIO_Name TEXT,\n",
    "    Round TEXT,\n",
    "    Savings REAL,\n",
    "    Income REAL,\n",
    "    Expenses REAL,\n",
    "    Balance REAL,\n",
    "    Total_Amount_Requested REAL,\n",
    "    Total_Amount_Approved_PreDeduction REAL,\n",
    "    Surplus_Deduction REAL,\n",
    "    Total_Amount_Approved_PostDeduction,\n",
    "    Total_Amount_Allocated REAL,\n",
    "    FOREIGN KEY (CIO_Name) REFERENCES CIOs(CIO_Name),\n",
    "    FOREIGN KEY (Round) REFERENCES Round_Information(Full_Round_Name)\n",
    ")\n",
    "''')\n",
    "\n",
    "cursor.execute('''\n",
    "CREATE TABLE IF NOT EXISTS Event_Information (\n",
    "    Event_ID INTEGER PRIMARY KEY AUTOINCREMENT,\n",
    "    Application_ID INTEGER,\n",
    "    Event_Name TEXT,\n",
    "    Event_Description TEXT,\n",
    "    Event_Purpose TEXT,\n",
    "    Event_Dates TEXT,\n",
    "    Impacted_Students TEXT,\n",
    "    FOREIGN KEY (Application_ID) REFERENCES Application_Information(Application_ID)\n",
    ")\n",
    "''')\n",
    "\n",
    "cursor.execute('''\n",
    "CREATE TABLE IF NOT EXISTS Item_Information (\n",
    "    Item_ID INTEGER PRIMARY KEY AUTOINCREMENT,\n",
    "    Application_ID INTEGER,\n",
    "    Item_Name TEXT,\n",
    "    Item_Event TEXT,\n",
    "    Price_Verification TEXT,\n",
    "    Item_Price REAL,\n",
    "    Quantity REAL,\n",
    "    Amount_Requested REAL,\n",
    "    Amount_Approved REAL,\n",
    "    Return_Comments REAL,\n",
    "    Item_Category TEXT,\n",
    "    Primary_Reviewer TEXT,\n",
    "    Secondary_Reviewer TEXT,\n",
    "    CIO_Response TEXT,\n",
    "    FOREIGN KEY (Application_ID) REFERENCES Application_Information(Application_ID)\n",
    ")\n",
    "''')"
   ]
  },
  {
   "cell_type": "markdown",
   "id": "23760c5b-37cd-4c88-8bb3-98c716ade581",
   "metadata": {},
   "source": [
    "## Load Data:"
   ]
  },
  {
   "cell_type": "code",
   "execution_count": 191,
   "id": "5aa293b5-142b-4edc-9c1a-f7822a0df531",
   "metadata": {},
   "outputs": [],
   "source": [
    "def load_data(file_path, sheet):\n",
    "    # Load the Excel file with row 3 (index 2) as headers\n",
    "    df = pd.read_excel(file_path, header=2, sheet_name = sheet)\n",
    "    \n",
    "    # Rename the 'Unnamed: 0' column to 'Round'\n",
    "    df.rename(columns={'Unnamed: 0': 'Round'}, inplace=True)\n",
    "    \n",
    "    # List of columns to drop\n",
    "    columns_to_drop = [\n",
    "        \"Uncategorized Requested\", \"Uncategorized Approved\", \"Renewable Alternatives\\nRequested\", \n",
    "        \"Renewable Alternatives Approved\", \"Food: $150/Sem Requested\", \"Food $150/Sem Approved\", \n",
    "        \"Food: Essential\\nRequested\", \"Food: Essential\\nApproved\", \"Guest Speakers Honoraria Requested\", \n",
    "        \"Guest Speakers Honoraria Approved\", \"Publicity & Advertising\\nRequested\", \n",
    "        \"Publicity & Advertising\\nApproved\", \"Services/Entry Fees/Printing\\nRequested\", \n",
    "        \"Services/Entry Fees/Printing\\nApproved\", \"Subscriptions\\nRequested\", \"Subscriptions\\nApproved\", \n",
    "        \"Lodging\\nRequested\", \"Lodging Approved\", \"Gas\\nRequested\", \"Gas\\nApproved\", \"Rental Car\\nRequested\", \n",
    "        \"Rental Car\\nApproved\", \"Bus\\nRequested\", \"Bus\\nApproved\", \"Train\\nRequested\", \"Train\\nApproved\", \n",
    "        \"Airfare Requested\", \"Airfare Approved\", \"Public Transportation\\nRequested\", \n",
    "        \"Public Transportation\\nApproved\", \"Approved vs Allocated Difference\\nRequested\", \n",
    "        \"Approved vs Allocated Difference\\nApproved\", \"NOT FUNDABLE: Misc Expenses\\nRequested\", \n",
    "        \"NOT FUNDABLE: Misc Expenses\\nApproved\", \"Fundable: Other\\nRequested\", \"Fundable: Other\\nApproved\", \"Uncategorized\\nRequested\"\n",
    "    ]\n",
    "    \n",
    "    # Drop specific columns and any column with \"Unnamed\" in the name\n",
    "    df = df.drop(columns=[col for col in df.columns if \"Unnamed\" in col or col in columns_to_drop], errors='ignore')\n",
    "\n",
    "    # Define a mapping from column index to new name\n",
    "    rename_dict = {\n",
    "        1: 'Savings',\n",
    "        2: 'Income',\n",
    "        3: 'Expenses',\n",
    "        4: 'Balance',\n",
    "        5: 'Event_Name',\n",
    "        6: 'Event_Description',\n",
    "        7: 'Event_Purpose',\n",
    "        8: 'Event_Dates',\n",
    "        9: 'Impacted_Students',\n",
    "        10: 'Item_Name',\n",
    "        11: 'Item_Event',\n",
    "        12: 'Price_Verification',\n",
    "        13: 'Item_Price',\n",
    "        14: 'Quantity',\n",
    "        15: 'Amount_Requested',\n",
    "        16: 'Amount_Approved',\n",
    "        17: 'Return_Comments',\n",
    "        19: 'Primary_Reviewer',\n",
    "        20: 'Secondary_Reviewer',\n",
    "        21: 'CIO_Response',\n",
    "        22: 'Total_Amount_Requested',\n",
    "        23: 'Total_Amount_Approved_PreDeduction',\n",
    "        25: 'Surplus_Deduction',\n",
    "        26: 'Total_Amount_Approved_PostDeduction'\n",
    "    }\n",
    "    \n",
    "    # Rename columns based on the mapping\n",
    "    for idx, new_name in rename_dict.items():\n",
    "        try:\n",
    "            old_name = df.columns[idx]\n",
    "            df.rename(columns={old_name: new_name}, inplace=True)\n",
    "        except IndexError:\n",
    "            print(f\"Warning: No column at index {idx}. Skipping renaming for this index.\")\n",
    "\n",
    "    df = df.drop(columns=\"Net Non-SAF Balance.1\", errors='ignore')\n",
    "\n",
    "    # Step 1: Ensure numerical columns have consistent NaN values\n",
    "    df = df.apply(pd.to_numeric, errors='ignore')\n",
    "\n",
    "    # Step 2: Remove cells with \"Range of rows in round\" and adjacent cells below it\n",
    "    # Find indices where \"Range of rows in round\" appears in the dataframe\n",
    "    rows_to_modify = df[df.isin([\"Range of rows in round\"])].stack().index\n",
    "    \n",
    "    # Iterate over each found location to nullify the target cells\n",
    "    for row, col in rows_to_modify:\n",
    "        # Set the specified cell to NaN\n",
    "        df.at[row, col] = pd.NA\n",
    "        # Set the cell directly below it to NaN\n",
    "        df.at[row + 1, col] = pd.NA\n",
    "        # Set the cell below and to the right to NaN\n",
    "        if col != df.columns[-1]:  # Ensure it doesn't go out of bounds\n",
    "            df.at[row + 1, df.columns[df.columns.get_loc(col) + 1]] = pd.NA\n",
    "\n",
    "    # Step 3: Standardize all missing values to np.nan\n",
    "    df.replace({pd.NA: np.nan}, inplace=True)\n",
    "    \n",
    "    # Step 4: Remove rows where every column except Application_ID is NaN\n",
    "    df = df.dropna(how='all', subset=[col for col in df.columns if col != 'Application_ID'])\n",
    "\n",
    "    # Step 5: Remove specific rows with embedded header content\n",
    "    header_patterns = [\"Round Reported\", \"Description of Event/Activity\", \"Purpose of Event/Activity\"]\n",
    "    \n",
    "    # Drop rows where any cell matches any of the header patterns\n",
    "    df = df[~df.apply(lambda row: row.astype(str).str.contains('|'.join(header_patterns)).any(), axis=1)]\n",
    "\n",
    "    # Step 6: Add Application_ID by creating a unique ID for each \"Round\" entry\n",
    "    df['Application_ID'] = df['Round'].notnull().cumsum()\n",
    "\n",
    "    # Step 7: Reorder columns to place Application_ID at the beginning\n",
    "    df = df[['Application_ID'] + [col for col in df.columns if col != 'Application_ID']]\n",
    "\n",
    "\n",
    "    # Return the DataFrame\n",
    "    return(df)"
   ]
  },
  {
   "cell_type": "code",
   "execution_count": 264,
   "id": "8e78a5f4-979a-478e-b652-a5c210c84ab1",
   "metadata": {},
   "outputs": [],
   "source": [
    "def ingest_data(df, db_path, file_path):\n",
    "    \"\"\"\n",
    "    Imports a pandas DataFrame into the specified SQLite database.\n",
    "    \n",
    "    Parameters:\n",
    "    - db_path (str): Path to the SQLite database file.\n",
    "    - df (pd.DataFrame): The DataFrame to import.\n",
    "    \"\"\"\n",
    "    \n",
    "    # Connect to SQLite database\n",
    "    connection = sqlite3.connect(db_path)\n",
    "    cursor = connection.cursor()\n",
    "    \n",
    "    try:\n",
    "        # Insert CIOs\n",
    "        CIO_Name = os.path.splitext(os.path.basename(file_path))[0]\n",
    "        cursor.execute('''\n",
    "        INSERT OR IGNORE INTO CIOs (CIO_Name) VALUES (?)\n",
    "        ''', (CIO_Name,))\n",
    "        \n",
    "        # Insert Application_Information\n",
    "        required_app_cols = [\n",
    "            'Application_ID', 'Round', 'Savings', 'Income', 'Expenses',\n",
    "            'Balance', 'Total_Amount_Requested', 'Total_Amount_Approved_PreDeduction',\n",
    "            'Surplus_Deduction', 'Total_Amount_Approved_PostDeduction'\n",
    "            # Note: 'CIO_Name' and 'Total_Amount_Allocated' are excluded\n",
    "        ]\n",
    "        \n",
    "        if all(col in df.columns for col in required_app_cols):\n",
    "            application_df = df[required_app_cols].drop_duplicates()\n",
    "            for _, row in application_df.iterrows():\n",
    "                application_id = row['Application_ID']\n",
    "                cio_name = CIO_Name # Retrieve CIO_Name from variable/mapping\n",
    "        \n",
    "                try:\n",
    "                    cursor.execute('''\n",
    "                        INSERT OR IGNORE INTO Application_Information \n",
    "                        (Application_ID, CIO_Name, Round, Savings, Income, Expenses, Balance, \n",
    "                         Total_Amount_Requested, Total_Amount_Approved_PreDeduction, \n",
    "                         Surplus_Deduction, Total_Amount_Approved_PostDeduction, Total_Amount_Allocated)\n",
    "                        VALUES (?, ?, ?, ?, ?, ?, ?, ?, ?, ?, ?, ?)\n",
    "                    ''', (\n",
    "                        application_id,\n",
    "                        cio_name,  # Use the variable here\n",
    "                        row['Round'],\n",
    "                        row['Savings'],\n",
    "                        row['Income'],\n",
    "                        row['Expenses'],\n",
    "                        row['Balance'],\n",
    "                        row['Total_Amount_Requested'],\n",
    "                        row['Total_Amount_Approved_PreDeduction'],\n",
    "                        row['Surplus_Deduction'],\n",
    "                        row['Total_Amount_Approved_PostDeduction'],\n",
    "                        None  # Set Total_Amount_Allocated to NULL\n",
    "                    ))\n",
    "                except Exception as e:\n",
    "                    print(f\"Error inserting Application ID {application_id}: {e}\")\n",
    "        else:\n",
    "            print(\"Warning: One or more Application_Information columns are missing.\")\n",
    "\n",
    "        \n",
    "        # Insert Event_Information\n",
    "        event_df = df[['Application_ID', 'Event_Name', 'Event_Description', 'Event_Purpose', \n",
    "                      'Event_Dates', 'Impacted_Students']].drop_duplicates()\n",
    "        for _, row in event_df.iterrows():\n",
    "            cursor.execute('''\n",
    "                INSERT INTO Event_Information \n",
    "                (Application_ID, Event_Name, Event_Description, Event_Purpose, \n",
    "                 Event_Dates, Impacted_Students)\n",
    "                VALUES (?, ?, ?, ?, ?, ?)\n",
    "            ''', (\n",
    "                row['Application_ID'], row['Event_Name'], row['Event_Description'], \n",
    "                row['Event_Purpose'], row['Event_Dates'], row['Impacted_Students']\n",
    "            ))\n",
    "            \n",
    "        \n",
    "        # Insert Item_Information\n",
    "        item_df = df[[\n",
    "            'Application_ID', 'Item_Name', 'Item_Event', 'Price_Verification', \n",
    "            'Item_Price', 'Quantity', 'Amount_Requested', 'Amount_Approved', \n",
    "            'Return_Comments', 'Category', 'Primary_Reviewer', \n",
    "            'Secondary_Reviewer', 'CIO_Response'\n",
    "        ]].drop_duplicates()\n",
    "        for _, row in item_df.iterrows():\n",
    "            cursor.execute('''\n",
    "                INSERT INTO Item_Information \n",
    "                (Application_ID, Item_Name, Item_Event, Price_Verification, Item_Price, \n",
    "                 Quantity, Amount_Requested, Amount_Approved, Return_Comments, \n",
    "                 Item_Category, Primary_Reviewer, Secondary_Reviewer, CIO_Response)\n",
    "                VALUES (?, ?, ?, ?, ?, ?, ?, ?, ?, ?, ?, ?, ?)\n",
    "            ''', (\n",
    "                row['Application_ID'], row['Item_Name'], row['Item_Event'], \n",
    "                row['Price_Verification'], row['Item_Price'], row['Quantity'], \n",
    "                row['Amount_Requested'], row['Amount_Approved'], row['Return_Comments'], \n",
    "                row['Category'], row['Primary_Reviewer'], \n",
    "                row['Secondary_Reviewer'], row['CIO_Response']\n",
    "            ))\n",
    "        \n",
    "        # Commit all changes\n",
    "        connection.commit()\n",
    "        print(\"Data inserted successfully.\")\n",
    "        \n",
    "    except Exception as e:\n",
    "        connection.rollback()\n",
    "        print(f\"An error occurred: {e}\")\n",
    "    \n",
    "    finally:\n",
    "        connection.close()"
   ]
  },
  {
   "cell_type": "code",
   "execution_count": 180,
   "id": "5ce9a440-c707-4623-a688-44c03eabf303",
   "metadata": {},
   "outputs": [],
   "source": [
    "def ingest_data2(file_path):\n",
    "    CIO_Name = os.path.splitext(os.path.basename(file_path))[0]\n",
    "    print(f\"Attempting to insert: {CIO_Name}\")\n",
    "\n",
    "    # Insert `CIO_Name` into the `CIOs` table\n",
    "    #cursor.execute('''\n",
    "    #INSERT OR IGNORE INTO CIOs (CIO_Name, Supplier_Number) VALUES (?, ?)\n",
    "    #''', (CIO_Name, \"Unknown\"))  # Replace \"Unknown\" with a default or actual value if available\n",
    "\n",
    "    cursor.execute('''\n",
    "    INSERT OR IGNORE INTO CIOs (CIO_Name) VALUES (?)\n",
    "    ''', (CIO_Name,))\n",
    "    \n",
    "    # Commit the transaction\n",
    "    connection.commit()\n",
    "    print(f\"Inserted: {CIO_Name}\")"
   ]
  },
  {
   "cell_type": "markdown",
   "id": "1da6f0da-760b-4dff-bfb9-dd8679d297e8",
   "metadata": {},
   "source": [
    "## Run Code:"
   ]
  },
  {
   "cell_type": "code",
   "execution_count": 258,
   "id": "fb83c940-5e2a-43eb-bdfb-bec000f57aa3",
   "metadata": {},
   "outputs": [],
   "source": [
    "MootCourt_file = r'C:\\Users\\17708\\OneDrive - University of Virginia\\!CIO Stuff\\Appropriations Committee\\Appropriations Dashboard\\Extramural Moot Court.xlsx'\n",
    "ChakDeCville_file = r'C:\\Users\\17708\\OneDrive - University of Virginia\\!CIO Stuff\\Appropriations Committee\\Appropriations Dashboard\\Chak De Cville.xlsx'\n",
    "\n",
    "db_path = 'Appropriations_log.db'"
   ]
  },
  {
   "cell_type": "code",
   "execution_count": 276,
   "id": "c1cf130d-37e8-4411-9747-79ad396a5aa6",
   "metadata": {},
   "outputs": [
    {
     "name": "stderr",
     "output_type": "stream",
     "text": [
      "C:\\Users\\17708\\anaconda3\\Lib\\site-packages\\openpyxl\\worksheet\\_read_only.py:81: UserWarning: Data Validation extension is not supported and will be removed\n",
      "  for idx, row in parser.parse():\n",
      "C:\\Users\\17708\\AppData\\Local\\Temp\\ipykernel_17708\\1897250996.py:66: FutureWarning: errors='ignore' is deprecated and will raise in a future version. Use to_numeric without passing `errors` and catch exceptions explicitly instead\n",
      "  df = df.apply(pd.to_numeric, errors='ignore')\n",
      "C:\\Users\\17708\\anaconda3\\Lib\\site-packages\\openpyxl\\worksheet\\_read_only.py:81: UserWarning: Data Validation extension is not supported and will be removed\n",
      "  for idx, row in parser.parse():\n",
      "C:\\Users\\17708\\AppData\\Local\\Temp\\ipykernel_17708\\1897250996.py:66: FutureWarning: errors='ignore' is deprecated and will raise in a future version. Use to_numeric without passing `errors` and catch exceptions explicitly instead\n",
      "  df = df.apply(pd.to_numeric, errors='ignore')\n"
     ]
    }
   ],
   "source": [
    "df = load_data(MootCourt_file, \"F24\")\n",
    "df2 = load_data(ChakDeCville_file, \"F24\")"
   ]
  },
  {
   "cell_type": "code",
   "execution_count": 280,
   "id": "b05558e8-1cce-4cdc-8203-4361c53a27fe",
   "metadata": {},
   "outputs": [
    {
     "name": "stdout",
     "output_type": "stream",
     "text": [
      "Data inserted successfully.\n",
      "Data inserted successfully.\n"
     ]
    },
    {
     "name": "stderr",
     "output_type": "stream",
     "text": [
      "C:\\Users\\17708\\AppData\\Local\\Temp\\ipykernel_17708\\405475700.py:66: DeprecationWarning: The default datetime adapter is deprecated as of Python 3.12; see the sqlite3 documentation for suggested replacement recipes\n",
      "  cursor.execute('''\n"
     ]
    }
   ],
   "source": [
    "#Only want for loop here, everything else abstracted into functions\n",
    "ingest_data(df, db_path, MootCourt_file)\n",
    "ingest_data(df2, db_path, ChakDeCville_file)"
   ]
  },
  {
   "cell_type": "markdown",
   "id": "3915eae6-c57f-4c70-8651-360f951394be",
   "metadata": {},
   "source": [
    "## Check database:"
   ]
  },
  {
   "cell_type": "code",
   "execution_count": 286,
   "id": "9780f127-5da4-4160-a850-f249927028b3",
   "metadata": {},
   "outputs": [
    {
     "name": "stdout",
     "output_type": "stream",
     "text": [
      "(1, 'Extramural Moot Court', 'RR1', 10000.0, 0.0, 10000.0, 0.0, 5845.0, 5845.0, 0.0, 5845, None)\n",
      "(2, 'Extramural Moot Court', 'RR2', 10000.0, 0.0, 10000.0, 0.0, 2200.0, 2200.0, 0.0, 2200, None)\n",
      "(3, 'Extramural Moot Court', 'RR3', 10000.0, 0.0, 10000.0, 0.0, 4677.21, 4677.21, 0.0, 4677.21, None)\n"
     ]
    }
   ],
   "source": [
    "# CIOs, CIO_Categories, Round_Information, Application_Information, Event_Information, Item_Information\n",
    "cursor.execute('SELECT * FROM Application_Information')\n",
    "rows = cursor.fetchall()\n",
    "\n",
    "if rows:\n",
    "    for row in rows:\n",
    "        print(row)\n",
    "else:\n",
    "    print(\"Table Empty.\")"
   ]
  },
  {
   "cell_type": "code",
   "execution_count": 25,
   "id": "30908762-3905-4141-8e88-e5c13a5c12b0",
   "metadata": {},
   "outputs": [
    {
     "name": "stdout",
     "output_type": "stream",
     "text": [
      "[(0, 'CIO_Name', 'TEXT', 1, None, 1), (1, 'Supplier_Number', 'TEXT', 0, None, 0)]\n"
     ]
    }
   ],
   "source": [
    "cursor.execute(\"PRAGMA table_info(CIOs)\")\n",
    "print(cursor.fetchall())"
   ]
  },
  {
   "cell_type": "code",
   "execution_count": null,
   "id": "49256226-7d47-44bf-9d16-5b1edc380ef1",
   "metadata": {},
   "outputs": [],
   "source": []
  }
 ],
 "metadata": {
  "kernelspec": {
   "display_name": "Python 3 (ipykernel)",
   "language": "python",
   "name": "python3"
  },
  "language_info": {
   "codemirror_mode": {
    "name": "ipython",
    "version": 3
   },
   "file_extension": ".py",
   "mimetype": "text/x-python",
   "name": "python",
   "nbconvert_exporter": "python",
   "pygments_lexer": "ipython3",
   "version": "3.12.4"
  }
 },
 "nbformat": 4,
 "nbformat_minor": 5
}
